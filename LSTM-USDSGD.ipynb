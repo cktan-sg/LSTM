{
 "cells": [
  {
   "cell_type": "markdown",
   "metadata": {
    "colab": {},
    "colab_type": "code",
    "id": "3dT3kLIF1BQ6"
   },
   "source": [
    "### This program uses an artificial recurrent neural network called Long Short Term Memory (LSTM) to predict the closing price of USD/SGD past 60 day closing price."
   ]
  },
  {
   "cell_type": "code",
   "execution_count": 1,
   "metadata": {
    "colab": {
     "base_uri": "https://localhost:8080/",
     "height": 80
    },
    "colab_type": "code",
    "id": "DjCc3igB1dj2",
    "outputId": "f504e9d9-68ca-4868-83ca-500ccd01f495"
   },
   "outputs": [
    {
     "name": "stderr",
     "output_type": "stream",
     "text": [
      "Using TensorFlow backend.\n"
     ]
    }
   ],
   "source": [
    "#Import the libraries\n",
    "import math\n",
    "import pandas_datareader as web\n",
    "import numpy as np\n",
    "import pandas as pd\n",
    "from sklearn.preprocessing import MinMaxScaler\n",
    "from keras.models import Sequential\n",
    "from keras.layers import Dense, LSTM\n",
    "import matplotlib.pyplot as plt\n",
    "plt.style.use('fivethirtyeight')"
   ]
  },
  {
   "cell_type": "code",
   "execution_count": 2,
   "metadata": {
    "colab": {
     "base_uri": "https://localhost:8080/",
     "height": 448
    },
    "colab_type": "code",
    "id": "anRiueGp1ysF",
    "outputId": "30b73ebd-4df3-4580-896f-712b10a67c23"
   },
   "outputs": [
    {
     "data": {
      "text/html": [
       "<div>\n",
       "<style scoped>\n",
       "    .dataframe tbody tr th:only-of-type {\n",
       "        vertical-align: middle;\n",
       "    }\n",
       "\n",
       "    .dataframe tbody tr th {\n",
       "        vertical-align: top;\n",
       "    }\n",
       "\n",
       "    .dataframe thead th {\n",
       "        text-align: right;\n",
       "    }\n",
       "</style>\n",
       "<table border=\"1\" class=\"dataframe\">\n",
       "  <thead>\n",
       "    <tr style=\"text-align: right;\">\n",
       "      <th></th>\n",
       "      <th>High</th>\n",
       "      <th>Low</th>\n",
       "      <th>Open</th>\n",
       "      <th>Close</th>\n",
       "      <th>Volume</th>\n",
       "      <th>Adj Close</th>\n",
       "    </tr>\n",
       "    <tr>\n",
       "      <th>Date</th>\n",
       "      <th></th>\n",
       "      <th></th>\n",
       "      <th></th>\n",
       "      <th></th>\n",
       "      <th></th>\n",
       "      <th></th>\n",
       "    </tr>\n",
       "  </thead>\n",
       "  <tbody>\n",
       "    <tr>\n",
       "      <td>2014-12-31</td>\n",
       "      <td>1.32483</td>\n",
       "      <td>1.31990</td>\n",
       "      <td>1.32134</td>\n",
       "      <td>1.32134</td>\n",
       "      <td>0.0</td>\n",
       "      <td>1.32134</td>\n",
       "    </tr>\n",
       "    <tr>\n",
       "      <td>2015-01-01</td>\n",
       "      <td>1.32390</td>\n",
       "      <td>1.32390</td>\n",
       "      <td>1.32390</td>\n",
       "      <td>1.32390</td>\n",
       "      <td>0.0</td>\n",
       "      <td>1.32390</td>\n",
       "    </tr>\n",
       "    <tr>\n",
       "      <td>2015-01-02</td>\n",
       "      <td>1.33083</td>\n",
       "      <td>1.32275</td>\n",
       "      <td>1.32390</td>\n",
       "      <td>1.32378</td>\n",
       "      <td>0.0</td>\n",
       "      <td>1.32378</td>\n",
       "    </tr>\n",
       "    <tr>\n",
       "      <td>2015-01-05</td>\n",
       "      <td>1.33748</td>\n",
       "      <td>1.33180</td>\n",
       "      <td>1.33410</td>\n",
       "      <td>1.33425</td>\n",
       "      <td>0.0</td>\n",
       "      <td>1.33425</td>\n",
       "    </tr>\n",
       "    <tr>\n",
       "      <td>2015-01-06</td>\n",
       "      <td>1.33668</td>\n",
       "      <td>1.33104</td>\n",
       "      <td>1.33421</td>\n",
       "      <td>1.33430</td>\n",
       "      <td>0.0</td>\n",
       "      <td>1.33430</td>\n",
       "    </tr>\n",
       "    <tr>\n",
       "      <td>...</td>\n",
       "      <td>...</td>\n",
       "      <td>...</td>\n",
       "      <td>...</td>\n",
       "      <td>...</td>\n",
       "      <td>...</td>\n",
       "      <td>...</td>\n",
       "    </tr>\n",
       "    <tr>\n",
       "      <td>2020-03-24</td>\n",
       "      <td>1.45793</td>\n",
       "      <td>1.44530</td>\n",
       "      <td>1.45630</td>\n",
       "      <td>1.45630</td>\n",
       "      <td>0.0</td>\n",
       "      <td>1.45630</td>\n",
       "    </tr>\n",
       "    <tr>\n",
       "      <td>2020-03-25</td>\n",
       "      <td>1.45107</td>\n",
       "      <td>1.44420</td>\n",
       "      <td>1.44640</td>\n",
       "      <td>1.44600</td>\n",
       "      <td>0.0</td>\n",
       "      <td>1.44600</td>\n",
       "    </tr>\n",
       "    <tr>\n",
       "      <td>2020-03-26</td>\n",
       "      <td>1.45091</td>\n",
       "      <td>1.43091</td>\n",
       "      <td>1.44953</td>\n",
       "      <td>1.44940</td>\n",
       "      <td>0.0</td>\n",
       "      <td>1.44940</td>\n",
       "    </tr>\n",
       "    <tr>\n",
       "      <td>2020-03-27</td>\n",
       "      <td>1.43612</td>\n",
       "      <td>1.42470</td>\n",
       "      <td>1.43052</td>\n",
       "      <td>1.43085</td>\n",
       "      <td>0.0</td>\n",
       "      <td>1.43085</td>\n",
       "    </tr>\n",
       "    <tr>\n",
       "      <td>2020-03-29</td>\n",
       "      <td>1.42925</td>\n",
       "      <td>1.42149</td>\n",
       "      <td>1.42419</td>\n",
       "      <td>1.42920</td>\n",
       "      <td>0.0</td>\n",
       "      <td>1.42920</td>\n",
       "    </tr>\n",
       "  </tbody>\n",
       "</table>\n",
       "<p>1366 rows × 6 columns</p>\n",
       "</div>"
      ],
      "text/plain": [
       "               High      Low     Open    Close  Volume  Adj Close\n",
       "Date                                                             \n",
       "2014-12-31  1.32483  1.31990  1.32134  1.32134     0.0    1.32134\n",
       "2015-01-01  1.32390  1.32390  1.32390  1.32390     0.0    1.32390\n",
       "2015-01-02  1.33083  1.32275  1.32390  1.32378     0.0    1.32378\n",
       "2015-01-05  1.33748  1.33180  1.33410  1.33425     0.0    1.33425\n",
       "2015-01-06  1.33668  1.33104  1.33421  1.33430     0.0    1.33430\n",
       "...             ...      ...      ...      ...     ...        ...\n",
       "2020-03-24  1.45793  1.44530  1.45630  1.45630     0.0    1.45630\n",
       "2020-03-25  1.45107  1.44420  1.44640  1.44600     0.0    1.44600\n",
       "2020-03-26  1.45091  1.43091  1.44953  1.44940     0.0    1.44940\n",
       "2020-03-27  1.43612  1.42470  1.43052  1.43085     0.0    1.43085\n",
       "2020-03-29  1.42925  1.42149  1.42419  1.42920     0.0    1.42920\n",
       "\n",
       "[1366 rows x 6 columns]"
      ]
     },
     "execution_count": 2,
     "metadata": {},
     "output_type": "execute_result"
    }
   ],
   "source": [
    "#Get the stock quote\n",
    "df = web.DataReader('SGD=X', data_source='yahoo', start='2015-01-01', end='2020-03-30')\n",
    "#Show the data\n",
    "df"
   ]
  },
  {
   "cell_type": "code",
   "execution_count": 3,
   "metadata": {
    "colab": {
     "base_uri": "https://localhost:8080/",
     "height": 34
    },
    "colab_type": "code",
    "id": "hu-kI33A2MJ7",
    "outputId": "3083e004-853b-4d0d-ee27-c3db702bd69a"
   },
   "outputs": [
    {
     "data": {
      "text/plain": [
       "(1366, 6)"
      ]
     },
     "execution_count": 3,
     "metadata": {},
     "output_type": "execute_result"
    }
   ],
   "source": [
    "#Get the number of rows and columns in the data set\n",
    "df.shape"
   ]
  },
  {
   "cell_type": "code",
   "execution_count": 4,
   "metadata": {
    "colab": {
     "base_uri": "https://localhost:8080/",
     "height": 681
    },
    "colab_type": "code",
    "id": "RGmmHqq02R7b",
    "outputId": "7a415277-4e50-4293-a315-7afed1b73c0e"
   },
   "outputs": [
    {
     "name": "stderr",
     "output_type": "stream",
     "text": [
      "C:\\Users\\tanck\\Anaconda3\\lib\\site-packages\\pandas\\plotting\\_matplotlib\\converter.py:103: FutureWarning: Using an implicitly registered datetime converter for a matplotlib plotting method. The converter was registered by pandas on import. Future versions of pandas will require you to explicitly register matplotlib converters.\n",
      "\n",
      "To register the converters:\n",
      "\t>>> from pandas.plotting import register_matplotlib_converters\n",
      "\t>>> register_matplotlib_converters()\n",
      "  warnings.warn(msg, FutureWarning)\n"
     ]
    },
    {
     "data": {
      "image/png": "[encoded data removed]",
      "text/plain": [
       "<Figure size 1152x576 with 1 Axes>"
      ]
     },
     "metadata": {
      "needs_background": "light"
     },
     "output_type": "display_data"
    }
   ],
   "source": [
    "#Visualize the closing price history\n",
    "plt.figure(figsize=(16,8))\n",
    "plt.title('Close Price History')\n",
    "plt.plot(df['Close'])\n",
    "plt.xlabel('Date', fontsize=18)\n",
    "plt.ylabel('Close Price USD ($)', fontsize=18)\n",
    "plt.show()"
   ]
  },
  {
   "cell_type": "code",
   "execution_count": 5,
   "metadata": {
    "colab": {
     "base_uri": "https://localhost:8080/",
     "height": 34
    },
    "colab_type": "code",
    "id": "WRHDMRdD3Adr",
    "outputId": "c15ac9d0-b9ae-49a3-e279-b883002e56d6"
   },
   "outputs": [
    {
     "data": {
      "text/plain": [
       "1093"
      ]
     },
     "execution_count": 5,
     "metadata": {},
     "output_type": "execute_result"
    }
   ],
   "source": [
    "#Create a new dataframe with only the 'Close column\n",
    "data = df.filter(['Close'])\n",
    "#Convert the dataframe to a numpy array\n",
    "dataset = data.values\n",
    "#Get the number of rows to train the model on\n",
    "training_data_len = math.ceil( len(dataset) * .8 )\n",
    "\n",
    "training_data_len"
   ]
  },
  {
   "cell_type": "code",
   "execution_count": 6,
   "metadata": {},
   "outputs": [
    {
     "data": {
      "text/html": [
       "<div>\n",
       "<style scoped>\n",
       "    .dataframe tbody tr th:only-of-type {\n",
       "        vertical-align: middle;\n",
       "    }\n",
       "\n",
       "    .dataframe tbody tr th {\n",
       "        vertical-align: top;\n",
       "    }\n",
       "\n",
       "    .dataframe thead th {\n",
       "        text-align: right;\n",
       "    }\n",
       "</style>\n",
       "<table border=\"1\" class=\"dataframe\">\n",
       "  <thead>\n",
       "    <tr style=\"text-align: right;\">\n",
       "      <th></th>\n",
       "      <th>Close</th>\n",
       "    </tr>\n",
       "    <tr>\n",
       "      <th>Date</th>\n",
       "      <th></th>\n",
       "    </tr>\n",
       "  </thead>\n",
       "  <tbody>\n",
       "    <tr>\n",
       "      <td>2014-12-31</td>\n",
       "      <td>1.32134</td>\n",
       "    </tr>\n",
       "    <tr>\n",
       "      <td>2015-01-01</td>\n",
       "      <td>1.32390</td>\n",
       "    </tr>\n",
       "    <tr>\n",
       "      <td>2015-01-02</td>\n",
       "      <td>1.32378</td>\n",
       "    </tr>\n",
       "    <tr>\n",
       "      <td>2015-01-05</td>\n",
       "      <td>1.33425</td>\n",
       "    </tr>\n",
       "    <tr>\n",
       "      <td>2015-01-06</td>\n",
       "      <td>1.33430</td>\n",
       "    </tr>\n",
       "    <tr>\n",
       "      <td>...</td>\n",
       "      <td>...</td>\n",
       "    </tr>\n",
       "    <tr>\n",
       "      <td>2020-03-24</td>\n",
       "      <td>1.45630</td>\n",
       "    </tr>\n",
       "    <tr>\n",
       "      <td>2020-03-25</td>\n",
       "      <td>1.44600</td>\n",
       "    </tr>\n",
       "    <tr>\n",
       "      <td>2020-03-26</td>\n",
       "      <td>1.44940</td>\n",
       "    </tr>\n",
       "    <tr>\n",
       "      <td>2020-03-27</td>\n",
       "      <td>1.43085</td>\n",
       "    </tr>\n",
       "    <tr>\n",
       "      <td>2020-03-29</td>\n",
       "      <td>1.42920</td>\n",
       "    </tr>\n",
       "  </tbody>\n",
       "</table>\n",
       "<p>1366 rows × 1 columns</p>\n",
       "</div>"
      ],
      "text/plain": [
       "              Close\n",
       "Date               \n",
       "2014-12-31  1.32134\n",
       "2015-01-01  1.32390\n",
       "2015-01-02  1.32378\n",
       "2015-01-05  1.33425\n",
       "2015-01-06  1.33430\n",
       "...             ...\n",
       "2020-03-24  1.45630\n",
       "2020-03-25  1.44600\n",
       "2020-03-26  1.44940\n",
       "2020-03-27  1.43085\n",
       "2020-03-29  1.42920\n",
       "\n",
       "[1366 rows x 1 columns]"
      ]
     },
     "execution_count": 6,
     "metadata": {},
     "output_type": "execute_result"
    }
   ],
   "source": [
    "data"
   ]
  },
  {
   "cell_type": "code",
   "execution_count": 7,
   "metadata": {},
   "outputs": [
    {
     "data": {
      "text/plain": [
       "(1366, 1)"
      ]
     },
     "execution_count": 7,
     "metadata": {},
     "output_type": "execute_result"
    }
   ],
   "source": [
    "dataset.shape"
   ]
  },
  {
   "cell_type": "code",
   "execution_count": 8,
   "metadata": {
    "colab": {
     "base_uri": "https://localhost:8080/",
     "height": 137
    },
    "colab_type": "code",
    "id": "1L_RNTDu3gd5",
    "outputId": "af8180fe-b4d3-44aa-c727-f7f1e207009e"
   },
   "outputs": [
    {
     "data": {
      "text/plain": [
       "array([[0.0985238 ],\n",
       "       [0.11562365],\n",
       "       [0.11482181],\n",
       "       ...,\n",
       "       [0.95391043],\n",
       "       [0.8300048 ],\n",
       "       [0.81898366]])"
      ]
     },
     "execution_count": 8,
     "metadata": {},
     "output_type": "execute_result"
    }
   ],
   "source": [
    "#Scale the data\n",
    "scaler = MinMaxScaler(feature_range=(0,1))\n",
    "scaled_data = scaler.fit_transform(dataset)\n",
    "\n",
    "scaled_data"
   ]
  },
  {
   "cell_type": "code",
   "execution_count": 9,
   "metadata": {
    "colab": {
     "base_uri": "https://localhost:8080/",
     "height": 706
    },
    "colab_type": "code",
    "id": "iWWqVFb_3-3n",
    "outputId": "93ecb208-bf0c-4a72-c72a-8792475a24e4"
   },
   "outputs": [
    {
     "name": "stdout",
     "output_type": "stream",
     "text": [
      "[array([0.0985238 , 0.11562365, 0.11482181, 0.18475721, 0.18509164,\n",
      "       0.18322121, 0.20486297, 0.20793576, 0.16445158, 0.18949978,\n",
      "       0.17954723, 0.18201884, 0.11402076, 0.13459393, 0.17734316,\n",
      "       0.21147597, 0.19324064, 0.22216268, 0.26651559, 0.24647671,\n",
      "       0.2184895 , 0.31434102, 0.30806245, 0.30352054, 0.30258492,\n",
      "       0.26384331, 0.27787037, 0.25235476, 0.31113525, 0.3149422 ,\n",
      "       0.32168898, 0.35568802, 0.32663141, 0.32115468, 0.33758646,\n",
      "       0.32990487, 0.3353816 , 0.34753902, 0.35942809, 0.35268211,\n",
      "       0.33872194, 0.31360607, 0.33411235, 0.3864136 , 0.39569808,\n",
      "       0.36978196, 0.40284538, 0.42889608, 0.48226592, 0.49602543,\n",
      "       0.54805993, 0.5405782 , 0.49415579, 0.56903363, 0.55193378,\n",
      "       0.54752564, 0.47565292, 0.53283052, 0.47531928, 0.40818914])]\n",
      "[0.40752106725356896]\n",
      "\n",
      "[array([0.0985238 , 0.11562365, 0.11482181, 0.18475721, 0.18509164,\n",
      "       0.18322121, 0.20486297, 0.20793576, 0.16445158, 0.18949978,\n",
      "       0.17954723, 0.18201884, 0.11402076, 0.13459393, 0.17734316,\n",
      "       0.21147597, 0.19324064, 0.22216268, 0.26651559, 0.24647671,\n",
      "       0.2184895 , 0.31434102, 0.30806245, 0.30352054, 0.30258492,\n",
      "       0.26384331, 0.27787037, 0.25235476, 0.31113525, 0.3149422 ,\n",
      "       0.32168898, 0.35568802, 0.32663141, 0.32115468, 0.33758646,\n",
      "       0.32990487, 0.3353816 , 0.34753902, 0.35942809, 0.35268211,\n",
      "       0.33872194, 0.31360607, 0.33411235, 0.3864136 , 0.39569808,\n",
      "       0.36978196, 0.40284538, 0.42889608, 0.48226592, 0.49602543,\n",
      "       0.54805993, 0.5405782 , 0.49415579, 0.56903363, 0.55193378,\n",
      "       0.54752564, 0.47565292, 0.53283052, 0.47531928, 0.40818914]), array([0.11562365, 0.11482181, 0.18475721, 0.18509164, 0.18322121,\n",
      "       0.20486297, 0.20793576, 0.16445158, 0.18949978, 0.17954723,\n",
      "       0.18201884, 0.11402076, 0.13459393, 0.17734316, 0.21147597,\n",
      "       0.19324064, 0.22216268, 0.26651559, 0.24647671, 0.2184895 ,\n",
      "       0.31434102, 0.30806245, 0.30352054, 0.30258492, 0.26384331,\n",
      "       0.27787037, 0.25235476, 0.31113525, 0.3149422 , 0.32168898,\n",
      "       0.35568802, 0.32663141, 0.32115468, 0.33758646, 0.32990487,\n",
      "       0.3353816 , 0.34753902, 0.35942809, 0.35268211, 0.33872194,\n",
      "       0.31360607, 0.33411235, 0.3864136 , 0.39569808, 0.36978196,\n",
      "       0.40284538, 0.42889608, 0.48226592, 0.49602543, 0.54805993,\n",
      "       0.5405782 , 0.49415579, 0.56903363, 0.55193378, 0.54752564,\n",
      "       0.47565292, 0.53283052, 0.47531928, 0.40818914, 0.40752107])]\n",
      "[0.40752106725356896, 0.4260239405856865]\n",
      "\n"
     ]
    }
   ],
   "source": [
    "#Create the training data set\n",
    "#Create the scaled training data set\n",
    "train_data = scaled_data[0:training_data_len , :]\n",
    "#Split the data into x_train and y_train data sets\n",
    "x_train = []\n",
    "y_train = []\n",
    "\n",
    "for i in range(60, len(train_data)):\n",
    "  x_train.append(train_data[i-60:i, 0])\n",
    "  y_train.append(train_data[i, 0])\n",
    "  if i<= 61:\n",
    "    print(x_train)\n",
    "    print(y_train)\n",
    "    print()"
   ]
  },
  {
   "cell_type": "code",
   "execution_count": 10,
   "metadata": {
    "colab": {},
    "colab_type": "code",
    "id": "DBf5XSfM5RZN"
   },
   "outputs": [],
   "source": [
    "#Convert the x_train and y_train to numpy arrays \n",
    "x_train, y_train = np.array(x_train), np.array(y_train)"
   ]
  },
  {
   "cell_type": "code",
   "execution_count": 11,
   "metadata": {
    "colab": {
     "base_uri": "https://localhost:8080/",
     "height": 34
    },
    "colab_type": "code",
    "id": "orKF9Ghv5a-E",
    "outputId": "fc063fa0-0835-48d0-b05c-41ef5b7f4d7e"
   },
   "outputs": [
    {
     "data": {
      "text/plain": [
       "(1033, 60, 1)"
      ]
     },
     "execution_count": 11,
     "metadata": {},
     "output_type": "execute_result"
    }
   ],
   "source": [
    "#Reshape the data\n",
    "x_train = np.reshape(x_train, (x_train.shape[0], x_train.shape[1], 1))\n",
    "x_train.shape"
   ]
  },
  {
   "cell_type": "code",
   "execution_count": 12,
   "metadata": {
    "colab": {
     "base_uri": "https://localhost:8080/",
     "height": 140
    },
    "colab_type": "code",
    "id": "RJHjLt6t52Ac",
    "outputId": "f083eec5-91b3-4499-b80c-da35938a1a2b"
   },
   "outputs": [],
   "source": [
    "#Build the LSTM model\n",
    "model = Sequential()\n",
    "model.add(LSTM(50, return_sequences=True, input_shape= (x_train.shape[1], 1)))\n",
    "model.add(LSTM(50, return_sequences= False))\n",
    "model.add(Dense(25))\n",
    "model.add(Dense(1))"
   ]
  },
  {
   "cell_type": "code",
   "execution_count": 13,
   "metadata": {
    "colab": {
     "base_uri": "https://localhost:8080/",
     "height": 71
    },
    "colab_type": "code",
    "id": "_yhADCRm6YEj",
    "outputId": "2b6e9066-2576-444b-c83b-d33b6d113cff"
   },
   "outputs": [],
   "source": [
    "#Compile the model\n",
    "model.compile(optimizer='adam', loss='mean_squared_error')"
   ]
  },
  {
   "cell_type": "code",
   "execution_count": 14,
   "metadata": {
    "colab": {
     "base_uri": "https://localhost:8080/",
     "height": 414
    },
    "colab_type": "code",
    "id": "_2Qi1brn6i5L",
    "outputId": "d5662eca-1566-4fe0-e9f5-dbaa70caff67"
   },
   "outputs": [
    {
     "name": "stdout",
     "output_type": "stream",
     "text": [
      "Epoch 1/1\n",
      "1033/1033 [==============================] - 27s 26ms/step - loss: 0.0048\n"
     ]
    },
    {
     "data": {
      "text/plain": [
       "<keras.callbacks.callbacks.History at 0x20bbcbcba08>"
      ]
     },
     "execution_count": 14,
     "metadata": {},
     "output_type": "execute_result"
    }
   ],
   "source": [
    "#Train the model\n",
    "model.fit(x_train, y_train, batch_size=1, epochs=1)"
   ]
  },
  {
   "cell_type": "code",
   "execution_count": 15,
   "metadata": {
    "colab": {},
    "colab_type": "code",
    "id": "iiui_Nn97Wk9"
   },
   "outputs": [],
   "source": [
    "#Create the testing data set\n",
    "#Create a new array containing scaled values from index 1543 to 2002 \n",
    "test_data = scaled_data[training_data_len - 60: , :]\n",
    "#Create the data sets x_test and y_test\n",
    "x_test = []\n",
    "y_test = dataset[training_data_len:, :]\n",
    "for i in range(60, len(test_data)):\n",
    "  x_test.append(test_data[i-60:i, 0])\n",
    "  "
   ]
  },
  {
   "cell_type": "code",
   "execution_count": 16,
   "metadata": {
    "colab": {},
    "colab_type": "code",
    "id": "1BjgzNH28HWp"
   },
   "outputs": [],
   "source": [
    "#Convert the data to a numpy array\n",
    "x_test = np.array(x_test)"
   ]
  },
  {
   "cell_type": "code",
   "execution_count": 17,
   "metadata": {
    "colab": {},
    "colab_type": "code",
    "id": "kMV34hpZ8Qlj"
   },
   "outputs": [],
   "source": [
    "#Reshape the data\n",
    "x_test = np.reshape(x_test, (x_test.shape[0], x_test.shape[1], 1 ))"
   ]
  },
  {
   "cell_type": "code",
   "execution_count": 18,
   "metadata": {
    "colab": {},
    "colab_type": "code",
    "id": "M2MrVjoK8oXD"
   },
   "outputs": [],
   "source": [
    "#Get the models predicted price values \n",
    "predictions = model.predict(x_test)\n",
    "predictions = scaler.inverse_transform(predictions)"
   ]
  },
  {
   "cell_type": "code",
   "execution_count": 19,
   "metadata": {
    "colab": {
     "base_uri": "https://localhost:8080/",
     "height": 34
    },
    "colab_type": "code",
    "id": "IlQbSPMU9DjO",
    "outputId": "6c5186cd-3bc0-4889-9ae6-77ab6a3a8e8d"
   },
   "outputs": [
    {
     "data": {
      "text/plain": [
       "0.006135807715240106"
      ]
     },
     "execution_count": 19,
     "metadata": {},
     "output_type": "execute_result"
    }
   ],
   "source": [
    "#Get the root mean squared error (RMSE)\n",
    "rmse=np.sqrt(np.mean(((predictions- y_test)**2)))\n",
    "rmse"
   ]
  },
  {
   "cell_type": "code",
   "execution_count": 20,
   "metadata": {
    "colab": {
     "base_uri": "https://localhost:8080/",
     "height": 681
    },
    "colab_type": "code",
    "id": "FdI9uOr69oGs",
    "outputId": "18e5e82a-da79-45b8-b0b9-fcd214918a5f"
   },
   "outputs": [
    {
     "name": "stderr",
     "output_type": "stream",
     "text": [
      "C:\\Users\\tanck\\Anaconda3\\lib\\site-packages\\ipykernel_launcher.py:4: SettingWithCopyWarning: \n",
      "A value is trying to be set on a copy of a slice from a DataFrame.\n",
      "Try using .loc[row_indexer,col_indexer] = value instead\n",
      "\n",
      "See the caveats in the documentation: http://pandas.pydata.org/pandas-docs/stable/user_guide/indexing.html#returning-a-view-versus-a-copy\n",
      "  after removing the cwd from sys.path.\n"
     ]
    },
    {
     "data": {
      "image/png": "[encoded data removed]",
      "text/plain": [
       "<Figure size 1152x576 with 1 Axes>"
      ]
     },
     "metadata": {
      "needs_background": "light"
     },
     "output_type": "display_data"
    }
   ],
   "source": [
    "#Plot the data\n",
    "train = data[:training_data_len]\n",
    "valid = data[training_data_len:]\n",
    "valid['Predictions'] = predictions\n",
    "#Visualize the data\n",
    "plt.figure(figsize=(16,8))\n",
    "plt.title('Model')\n",
    "plt.xlabel('Date', fontsize=18)\n",
    "plt.ylabel('Close Price USD ($)', fontsize=18)\n",
    "plt.plot(train['Close'])\n",
    "plt.plot(valid[['Close', 'Predictions']])\n",
    "plt.legend(['Train', 'Val', 'Predictions'], loc='lower right')\n",
    "plt.show()"
   ]
  },
  {
   "cell_type": "code",
   "execution_count": 21,
   "metadata": {
    "colab": {
     "base_uri": "https://localhost:8080/",
     "height": 448
    },
    "colab_type": "code",
    "id": "rjQjGVSg-qy2",
    "outputId": "bfc55d6b-d213-47ab-eb6f-711eefbc4876"
   },
   "outputs": [
    {
     "data": {
      "text/html": [
       "<div>\n",
       "<style scoped>\n",
       "    .dataframe tbody tr th:only-of-type {\n",
       "        vertical-align: middle;\n",
       "    }\n",
       "\n",
       "    .dataframe tbody tr th {\n",
       "        vertical-align: top;\n",
       "    }\n",
       "\n",
       "    .dataframe thead th {\n",
       "        text-align: right;\n",
       "    }\n",
       "</style>\n",
       "<table border=\"1\" class=\"dataframe\">\n",
       "  <thead>\n",
       "    <tr style=\"text-align: right;\">\n",
       "      <th></th>\n",
       "      <th>Close</th>\n",
       "      <th>Predictions</th>\n",
       "    </tr>\n",
       "    <tr>\n",
       "      <th>Date</th>\n",
       "      <th></th>\n",
       "      <th></th>\n",
       "    </tr>\n",
       "  </thead>\n",
       "  <tbody>\n",
       "    <tr>\n",
       "      <td>2019-03-13</td>\n",
       "      <td>1.35570</td>\n",
       "      <td>1.358204</td>\n",
       "    </tr>\n",
       "    <tr>\n",
       "      <td>2019-03-14</td>\n",
       "      <td>1.35261</td>\n",
       "      <td>1.358089</td>\n",
       "    </tr>\n",
       "    <tr>\n",
       "      <td>2019-03-15</td>\n",
       "      <td>1.35543</td>\n",
       "      <td>1.356968</td>\n",
       "    </tr>\n",
       "    <tr>\n",
       "      <td>2019-03-18</td>\n",
       "      <td>1.35293</td>\n",
       "      <td>1.356178</td>\n",
       "    </tr>\n",
       "    <tr>\n",
       "      <td>2019-03-19</td>\n",
       "      <td>1.35126</td>\n",
       "      <td>1.355135</td>\n",
       "    </tr>\n",
       "    <tr>\n",
       "      <td>...</td>\n",
       "      <td>...</td>\n",
       "      <td>...</td>\n",
       "    </tr>\n",
       "    <tr>\n",
       "      <td>2020-03-24</td>\n",
       "      <td>1.45630</td>\n",
       "      <td>1.452647</td>\n",
       "    </tr>\n",
       "    <tr>\n",
       "      <td>2020-03-25</td>\n",
       "      <td>1.44600</td>\n",
       "      <td>1.459756</td>\n",
       "    </tr>\n",
       "    <tr>\n",
       "      <td>2020-03-26</td>\n",
       "      <td>1.44940</td>\n",
       "      <td>1.461336</td>\n",
       "    </tr>\n",
       "    <tr>\n",
       "      <td>2020-03-27</td>\n",
       "      <td>1.43085</td>\n",
       "      <td>1.461096</td>\n",
       "    </tr>\n",
       "    <tr>\n",
       "      <td>2020-03-29</td>\n",
       "      <td>1.42920</td>\n",
       "      <td>1.455197</td>\n",
       "    </tr>\n",
       "  </tbody>\n",
       "</table>\n",
       "<p>273 rows × 2 columns</p>\n",
       "</div>"
      ],
      "text/plain": [
       "              Close  Predictions\n",
       "Date                            \n",
       "2019-03-13  1.35570     1.358204\n",
       "2019-03-14  1.35261     1.358089\n",
       "2019-03-15  1.35543     1.356968\n",
       "2019-03-18  1.35293     1.356178\n",
       "2019-03-19  1.35126     1.355135\n",
       "...             ...          ...\n",
       "2020-03-24  1.45630     1.452647\n",
       "2020-03-25  1.44600     1.459756\n",
       "2020-03-26  1.44940     1.461336\n",
       "2020-03-27  1.43085     1.461096\n",
       "2020-03-29  1.42920     1.455197\n",
       "\n",
       "[273 rows x 2 columns]"
      ]
     },
     "execution_count": 21,
     "metadata": {},
     "output_type": "execute_result"
    }
   ],
   "source": [
    "#Show the valid and predicted prices\n",
    "valid"
   ]
  },
  {
   "cell_type": "code",
   "execution_count": 22,
   "metadata": {
    "colab": {
     "base_uri": "https://localhost:8080/",
     "height": 34
    },
    "colab_type": "code",
    "id": "rXyu5S_n-7ds",
    "outputId": "74f27fbb-94eb-41ef-a122-ed7e55034c5e"
   },
   "outputs": [
    {
     "name": "stdout",
     "output_type": "stream",
     "text": [
      "Predicted Price : [[1.4480325]]\n"
     ]
    }
   ],
   "source": [
    "#Get the quote\n",
    "usdsgd_quote = web.DataReader('SGD=X', data_source='yahoo', start='2015-01-01', end='2020-03-30')\n",
    "#Create a new dataframe\n",
    "new_df = usdsgd_quote.filter(['Close'])\n",
    "#Get the last 60 day closing price values and convert the dataframe to an array\n",
    "last_60_days = new_df[-60:].values\n",
    "#Scale the data to be values between 0 and 1\n",
    "last_60_days_scaled = scaler.transform(last_60_days)\n",
    "#Create an empty list\n",
    "X_test = []\n",
    "#Append the past 60 days\n",
    "X_test.append(last_60_days_scaled)\n",
    "#Convert the X_test data set to a numpy array\n",
    "X_test = np.array(X_test)\n",
    "#Reshape the data\n",
    "X_test = np.reshape(X_test, (X_test.shape[0], X_test.shape[1], 1))\n",
    "#Get the predicted scaled price\n",
    "pred_price = model.predict(X_test)\n",
    "#undo the scaling \n",
    "pred_price = scaler.inverse_transform(pred_price)\n",
    "print(\"Predicted Price : \"+ str(pred_price))"
   ]
  },
  {
   "cell_type": "code",
   "execution_count": 23,
   "metadata": {
    "colab": {
     "base_uri": "https://localhost:8080/",
     "height": 68
    },
    "colab_type": "code",
    "id": "LErjDVJvAbQa",
    "outputId": "f62add48-67c8-42d9-9c1e-ba09acc24296"
   },
   "outputs": [
    {
     "name": "stdout",
     "output_type": "stream",
     "text": [
      "Date\n",
      "2020-03-29    1.42920\n",
      "2020-03-31    1.42642\n",
      "Name: Close, dtype: float64\n"
     ]
    }
   ],
   "source": [
    "#Get the quote\n",
    "usdsgd_quote2 = web.DataReader('SGD=X', data_source='yahoo', start='2020-03-31', end='2020-03-31')\n",
    "print(usdsgd_quote2['Close'])"
   ]
  },
  {
   "cell_type": "code",
   "execution_count": null,
   "metadata": {},
   "outputs": [],
   "source": []
  }
 ],
 "metadata": {
  "colab": {
   "name": "LSTM2.ipynb",
   "provenance": []
  },
  "kernelspec": {
   "display_name": "Python 3",
   "language": "python",
   "name": "python3"
  },
  "language_info": {
   "codemirror_mode": {
    "name": "ipython",
    "version": 3
   },
   "file_extension": ".py",
   "mimetype": "text/x-python",
   "name": "python",
   "nbconvert_exporter": "python",
   "pygments_lexer": "ipython3",
   "version": "3.7.4"
  }
 },
 "nbformat": 4,
 "nbformat_minor": 1
}
